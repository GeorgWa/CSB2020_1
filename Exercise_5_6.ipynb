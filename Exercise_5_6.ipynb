{
 "cells": [
  {
   "cell_type": "markdown",
   "metadata": {},
   "source": [
    "## Dynamics of the COVID-19 infection\n",
    "### 1. Models for the simulation of the COVID-19 Pandemic\n",
    "\n",
    "As the current Sars-CoV-2 Pandemic unfolds, research groups around the world are trying to model the dynamics of the ongoing Pandemic. Epediemiological models are needed to forecast the infections, guide policy makers and probe interventions measures. Even though multiple approaches have been implemented to elucidate different facets of the Pandemic, most models are based on the same SEIR [2] framework. The population of interest is seperated into different compartements, based on theil contact with the pathogen. Susceptible (S) People can become exposed (E), which can lead to an succsesfull infection with the virus. Infected (I) Population can then further infect susceptible indivisuals until recovery (R). As described the SEIR model assumes immunity after overcomming the infection.\n",
    "\n",
    "$\n",
    "\\newcommand{ptr}[1]{\\overset{\\mathtt{#1}}{\\longrightarrow}}                                  \n",
    "                                             \\fbox{S(t)}  \\ptr{exposition}\n",
    "                                              \\fbox{E(t)}    \\ptr{infection}\n",
    "                                              \\fbox{I(t)}     \\ptr{recovery}\n",
    "                                             \\fbox{R(t)}\n",
    "$\n",
    "<br><br>\n",
    "We implemented two different model, which are both extending this concept.\n",
    "\n",
    "##### The Neher Model - COVID-19 Dynamics\n",
    "The research group from the Swiss Institute of Bioinformatics, led by Richard Neher, developed a model to simulate the current Sars-CoV-2 Pandemic [1]. The Model is based on the described SEIR  framework, which was extended to account for the specific questions of interest in the current Pandemic. A special focus was set to asses the strain on the healthcare system and to model the capacity overflow on ICU units. Furthermore, the effect on different age groups can be assessed and the isolation of age groups can be modeled with high fidelity. and the effect of seasonal forcing on the spread of infection can be simulated [3]. The model was published as an interactive web application which freely accessible and lets the user explore fitted parameters based on observational data and custom parameters [4]. \n",
    "\n",
    "##### The Colizza Model\n",
    "Another group of researchers arround Laura Di Domenico from the INSERM [5] also created a model to describe the Sars-CoV-2 Pandemic. The base for the model is also a modified SEIR framework. It is extended to bring in the contacts between people and the different behaviours of infected perople into calculation.  \n",
    "At the moment, europe and the world are currently under strict social distancing measures. It is not clear, how the different countries can reduce the strict counter measures against the virus, without running into a second wave.  \n",
    "Therefor the paper addresses the question, what influence have the applied counter measures on the development of the pandemi and what are possible exit strategies to get out of the lockdown in a save way.  \n",
    "The paper is published as a pre-print and publicly available [6]. It contains information about the model and the used parameter but does not publish the sources."
   ]
  },
  {
   "cell_type": "markdown",
   "metadata": {},
   "source": [
    "### 2.1. The Neher model, modeling the health system strain and ICU Overflow\n",
    "\n"
   ]
  },
  {
   "cell_type": "markdown",
   "metadata": {},
   "source": [
    "### 2.2. Parameters and compartments of the model"
   ]
  },
  {
   "cell_type": "markdown",
   "metadata": {},
   "source": [
    "### 2.3. Implementation of the model"
   ]
  },
  {
   "cell_type": "markdown",
   "metadata": {},
   "source": [
    "### 3. The Colizza Model, simulating contact behaviour\n",
    "\n",
    "The model expandet SEIR model and includes multiple states infection states ($I$).\n",
    "The state is split into the prodromic phase ($I_p$), followed by four states, repersenting the severity of  Asymptomatic Infectious state ($I_{a}$), Paucysymptomatic Infectious($I_{ps}$), Symptomatic Infectious ($I_{ms}$) and the state for Symptomatic Infectious with severe symptoms ($I_{ss}$).  \n",
    "The first three states show a mild course after infection. The different states are used to model the behaviour of affected people in more detail. With the parameters it is possible to represent the selfisolation because of the illness. It is assumed that, during a sever illness, people reduce their contacts by 75% [7].  \n",
    "All people in state $I_{ss}$ have a stay in the hospital, either in the normal tracks or in the ICU.  \n",
    "These last two states help to analyse, if a counter measure is enough to prevent the health care system from collapsing.  \n",
    "The compartmental model was initialy build based on French hospital data APHP (Assistance publique - Hôpitaux de Paris[8]).\n",
    "Afterwards it was rescaled to fit whole Île-de-France region.  \n",
    "The paper separates the population into three groups, children (c), adults (a) and seniors(s). Each group interacts with the others, but has a different contact level.\n",
    "\n",
    "\n",
    "The general model is shown in Figure 1:\n",
    "\n",
    "Graph, Fig 1"
   ]
  },
  {
   "cell_type": "markdown",
   "metadata": {},
   "source": [
    "#### 3.1 Creating the contact matrix\n",
    "\n",
    "The main contact matrix influencing the model is based on multiple contact matrices. Each matrix represents a given situation of the daily life and has its own amount of contacts between the different groups.  \n",
    "The researchers devided the daily life in six different parts, each with a different ratio. As a result, we have six matrices: $K_{household}$, $K_{school}$, $K_{workplace}$, $K_{transport}$, $K_{leisure}$ and $K_{other}$.\n",
    "\n",
    "\n",
    "To get our input matrix $K$ for the model, we can use the weighted sum of all matrices:\n",
    "$$K=\\sum{K_{place}*ratio_{place}}$$\n",
    "\n",
    "To show the importance of this contact matrices, we created one baseline matrix $K_{baseline}$ and one matrix to decribe the influence of the counter measures $K_{measure}$.\n",
    "\n",
    "The contact matrix is organized that $K_{00}$ represents the contacts from children to children, $K_{01}$ from adults to children and so on.\n",
    "$$K=\n",
    "\\begin{pmatrix}\n",
    "    c\\rightarrow c && a\\rightarrow c && s\\rightarrow c\\\\\n",
    "    c\\rightarrow a && a\\rightarrow a && s\\rightarrow a\\\\\n",
    "    c\\rightarrow s && a\\rightarrow s && s\\rightarrow s\n",
    "\\end{pmatrix}\n",
    "$$"
   ]
  },
  {
   "cell_type": "code",
   "execution_count": 5,
   "metadata": {},
   "outputs": [
    {
     "ename": "NameError",
     "evalue": "name 'plt' is not defined",
     "output_type": "error",
     "traceback": [
      "\u001b[1;31m---------------------------------------------------------------------------\u001b[0m",
      "\u001b[1;31mNameError\u001b[0m                                 Traceback (most recent call last)",
      "\u001b[1;32m<ipython-input-5-5aacb3a2f432>\u001b[0m in \u001b[0;36m<module>\u001b[1;34m\u001b[0m\n\u001b[0;32m     91\u001b[0m \u001b[1;31m# Variation of [9]\u001b[0m\u001b[1;33m\u001b[0m\u001b[1;33m\u001b[0m\u001b[1;33m\u001b[0m\u001b[0m\n\u001b[0;32m     92\u001b[0m \u001b[1;31m# Basic Configuration\u001b[0m\u001b[1;33m\u001b[0m\u001b[1;33m\u001b[0m\u001b[1;33m\u001b[0m\u001b[0m\n\u001b[1;32m---> 93\u001b[1;33m \u001b[0mfig\u001b[0m\u001b[1;33m,\u001b[0m \u001b[0maxes\u001b[0m \u001b[1;33m=\u001b[0m \u001b[0mplt\u001b[0m\u001b[1;33m.\u001b[0m\u001b[0msubplots\u001b[0m\u001b[1;33m(\u001b[0m\u001b[0mncols\u001b[0m\u001b[1;33m=\u001b[0m\u001b[1;36m2\u001b[0m\u001b[1;33m,\u001b[0m \u001b[0mfigsize\u001b[0m\u001b[1;33m=\u001b[0m\u001b[1;33m(\u001b[0m\u001b[1;36m12\u001b[0m\u001b[1;33m,\u001b[0m \u001b[1;36m12\u001b[0m\u001b[1;33m)\u001b[0m\u001b[1;33m)\u001b[0m\u001b[1;33m\u001b[0m\u001b[1;33m\u001b[0m\u001b[0m\n\u001b[0m\u001b[0;32m     94\u001b[0m \u001b[0max1\u001b[0m\u001b[1;33m,\u001b[0m \u001b[0max2\u001b[0m \u001b[1;33m=\u001b[0m \u001b[0maxes\u001b[0m\u001b[1;33m\u001b[0m\u001b[1;33m\u001b[0m\u001b[0m\n\u001b[0;32m     95\u001b[0m \u001b[1;33m\u001b[0m\u001b[0m\n",
      "\u001b[1;31mNameError\u001b[0m: name 'plt' is not defined"
     ]
    }
   ],
   "source": [
    "# baseline\n",
    "ratioBase_household = 1/6\n",
    "ratioBase_school = 1/6\n",
    "ratioBase_workplace = 1/6\n",
    "ratioBase_transport = 1/6\n",
    "ratioBase_leisure = 1/6\n",
    "ratioBase_other = 1/6\n",
    "\n",
    "kBase_household = [\n",
    "    [8, 5, 4],  \n",
    "    [1.2, 7, 2], \n",
    "    [0.8, 6, 2]]\n",
    "kBase_school = [\n",
    "    [8, 5, 4], \n",
    "    [1.2, 7, 2], \n",
    "    [0.8, 6, 2]] \n",
    "kBase_workplace = [\n",
    "    [8, 5, 4], \n",
    "    [1.2, 7, 2], \n",
    "    [0.8, 6, 2]] \n",
    "kBase_transport = [\n",
    "    [8, 5, 4], \n",
    "    [1.2, 7, 2],\n",
    "    [0.8, 6, 2]]\n",
    "kBase_leisure = [\n",
    "    [8, 5, 4],\n",
    "    [1.2, 7, 2], \n",
    "    [0.8, 6, 2]] \n",
    "kBase_other = [\n",
    "    [8, 5, 4], \n",
    "    [1.2, 7, 2], \n",
    "    [0.8, 6, 2]] \n",
    "\n",
    "kBase = [\n",
    "    [1, 1, 1], \n",
    "    [1, 1, 1], \n",
    "    [1, 1, 1]] \n",
    "\n",
    "# Measure\n",
    "ratioMeasure_household = 1/6\n",
    "ratioMeasure_school = 1/6\n",
    "ratioMeasure_workplace = 1/6\n",
    "ratioMeasure_transport = 1/6\n",
    "ratioMeasure_leisure = 1/6\n",
    "ratioMeasure_other = 1/6\n",
    "\n",
    "kMeasure_household = [\n",
    "    [8, 5, 4],  \n",
    "    [1.2, 7, 2], \n",
    "    [0.8, 6, 2]]\n",
    "kMeasure_school = [\n",
    "    [8, 5, 4], \n",
    "    [1.2, 7, 2], \n",
    "    [0.8, 6, 2]] \n",
    "kMeasure_workplace = [\n",
    "    [8, 5, 4], \n",
    "    [1.2, 7, 2], \n",
    "    [0.8, 6, 2]] \n",
    "kMeasure_transport = [\n",
    "    [8, 5, 4], \n",
    "    [1.2, 7, 2],\n",
    "    [0.8, 6, 2]]\n",
    "kMeasure_leisure = [\n",
    "    [8, 5, 4],\n",
    "    [1.2, 7, 2], \n",
    "    [0.8, 6, 2]] \n",
    "kMeasure_other = [\n",
    "    [8, 5, 4], \n",
    "    [1.2, 7, 2], \n",
    "    [0.8, 6, 2]] \n",
    "\n",
    "kMeasure = [\n",
    "    [1, 1, 1], \n",
    "    [1, 1, 1], \n",
    "    [1, 1, 1]] \n",
    "\n",
    "for i in range(3):\n",
    "    for j in range(3):\n",
    "        kBase[i][j] = kBase_household[i][j] * ratioBase_household + kBase_school[i][j] * ratioBase_school \\\n",
    "                      + kBase_workplace[i][j] * ratioBase_workplace + kBase_transport[i][j] * ratioBase_transport \\\n",
    "                      + kBase_leisure[i][j] * ratioBase_leisure + kBase_other[i][j] * ratioBase_other\n",
    "        \n",
    "        kMeasure[i][j] = kMeasure_household[i][j] * ratioMeasure_household \\\n",
    "                         + kMeasure_school[i][j] * ratioMeasure_household \\\n",
    "                         + kMeasure_workplace[i][j] * ratioMeasure_workplace \\\n",
    "                         + kMeasure_transport[i][j] * ratioMeasure_transport \\\n",
    "                         + kMeasure_leisure[i][j] * ratioMeasure_leisure \\\n",
    "                         + kMeasure_other[i][j] * ratioMeasure_other\n",
    "        \n",
    "\n",
    "# Variation of [9]\n",
    "# Basic Configuration\n",
    "fig, axes = plt.subplots(ncols=2, figsize=(12, 12))\n",
    "ax1, ax2 = axes\n",
    "\n",
    "# Heat maps.\n",
    "im1 = ax1.matshow(kBase, cmap='Greys')\n",
    "im2 = ax2.matshow(kMeasure, cmap='Greys')\n",
    "\n",
    "# Formatting for heat map 1.\n",
    "ax1.set_xticks(range(len(kBase)))\n",
    "ax1.set_yticks(range(len(kBase)))\n",
    "ax1.set_xticklabels(['c', 'a', 's'])\n",
    "ax1.set_yticklabels(['c', 'a', 's'])\n",
    "ax1.set_ylim(len(data1)-0.5, -0.5)\n",
    "plt.setp(ax1.get_xticklabels(), rotation=45, ha='left', rotation_mode='anchor')\n",
    "plt.colorbar(im1, fraction=0.045, pad=0.05, ax=ax1)\n",
    "\n",
    "# Formatting for heat map 2.\n",
    "ax2.set_xticks(range(len(kMeasure)))\n",
    "ax2.set_yticks(range(len(kMeasure)))\n",
    "ax2.set_xticklabels(['c', 'a', 's'])\n",
    "ax2.set_yticklabels(['c', 'a', 's'])\n",
    "ax2.set_ylim(len(data2)-0.5, -0.5)\n",
    "plt.setp(ax2.get_xticklabels(), rotation=45, ha='left', rotation_mode='anchor')\n",
    "plt.colorbar(im2, fraction=0.045, pad=0.1, ax=ax2)\n",
    "\n",
    "fig.tight_layout()\n",
    "plt.show()"
   ]
  },
  {
   "cell_type": "markdown",
   "metadata": {},
   "source": [
    "####  3.2 Parameters for the model"
   ]
  },
  {
   "cell_type": "markdown",
   "metadata": {},
   "source": [
    "#### 3.3 Implementing the Colizza model"
   ]
  },
  {
   "cell_type": "markdown",
   "metadata": {},
   "source": [
    "### 4.1 Results from the Neher model"
   ]
  },
  {
   "cell_type": "markdown",
   "metadata": {},
   "source": [
    "### 4.2 Results from the Colizza model"
   ]
  },
  {
   "cell_type": "markdown",
   "metadata": {},
   "source": [
    "### 4.3 Two similar approaches with different focus - comparison of the Coliza and Neher model"
   ]
  },
  {
   "cell_type": "markdown",
   "metadata": {},
   "source": [
    "### 5. Appendix \n",
    "\n",
    "[5] INSERM, Sorbonne Université, Pierre Louis Institute of Epidemiology and Public Health, Paris, France  \n",
    "[6] Di Domenico et al,Expected impact of lockdown in Ile-de-France and possible exit strategies, Report #9, medRxiv.org  \n",
    "[7] Van Kerckhove, K., Hens, N., Edmunds, W. J. & Eames, K. T. D. The Impact of Illness on Social Networks: Implications for Transmission and Control of Influenza. Am. J. Epidemiol. 178, 1655– 1662 (2013)  \n",
    "[8] APHP. https://www.aphp.fr/  \n",
    "[9] https://stackoverflow.com/questions/55663030/plotting-two-heat-maps-side-by-side-in-matplotlib\n"
   ]
  },
  {
   "cell_type": "code",
   "execution_count": null,
   "metadata": {},
   "outputs": [],
   "source": []
  }
 ],
 "metadata": {
  "kernelspec": {
   "display_name": "Python 3",
   "language": "python",
   "name": "python3"
  },
  "language_info": {
   "codemirror_mode": {
    "name": "ipython",
    "version": 3
   },
   "file_extension": ".py",
   "mimetype": "text/x-python",
   "name": "python",
   "nbconvert_exporter": "python",
   "pygments_lexer": "ipython3",
   "version": "3.7.6"
  }
 },
 "nbformat": 4,
 "nbformat_minor": 4
}
