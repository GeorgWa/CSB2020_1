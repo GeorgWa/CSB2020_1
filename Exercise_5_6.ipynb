{
 "cells": [
  {
   "cell_type": "markdown",
   "metadata": {},
   "source": [
    "## Dynamics of the COVID-19 infection\n",
    "\n",
    "### 0. Setup and imports"
   ]
  },
  {
   "cell_type": "code",
   "execution_count": 6,
   "metadata": {},
   "outputs": [],
   "source": [
    "import numpy as np\n",
    "from scipy.integrate import odeint\n",
    "import matplotlib.pyplot as plt"
   ]
  },
  {
   "cell_type": "markdown",
   "metadata": {},
   "source": [
    "### 1. Models for the simulation of the COVID-19 Pandemic\n",
    "\n",
    "As the current Sars-CoV-2 Pandemic unfolds, research groups around the world are trying to model the dynamics of the ongoing Pandemic. Epediemiological models are needed to forecast the infections, guide policy makers and probe interventions measures. Even though multiple approaches have been implemented to elucidate different facets of the Pandemic, most models are based on the same SEIR [2] framework. The population of interest is seperated into different compartements, based on theil contact with the pathogen. Susceptible (S) People can become exposed (E), which can lead to an succsesfull infection with the virus. Infected (I) Population can then further infect susceptible indivisuals until recovery (R). As described the SEIR model assumes immunity after overcomming the infection.\n",
    "\n",
    "$\n",
    "\\newcommand{ptr}[1]{\\overset{\\mathtt{#1}}{\\longrightarrow}}                                  \n",
    "                                             \\fbox{S(t)}  \\ptr{exposition}\n",
    "                                              \\fbox{E(t)}    \\ptr{infection}\n",
    "                                              \\fbox{I(t)}     \\ptr{recovery}\n",
    "                                             \\fbox{R(t)}\n",
    "$\n",
    "<br><br>\n",
    "We implemented two different model, which are both extending this concept.\n",
    "\n",
    "##### The Neher Model - COVID-19 Dynamics\n",
    "The research group from the Swiss Institute of Bioinformatics, led by Richard Neher, developed a model to simulate the current Sars-CoV-2 Pandemic [1]. The Model is based on the described SEIR  framework, which was extended to account for the specific questions of interest in the current Pandemic. A special focus was set to asses the strain on the healthcare system and to model the capacity overflow on ICU units. Furthermore, the effect on different age groups can be assessed and the isolation of age groups can be modeled with high fidelity. and the effect of seasonal forcing on the spread of infection can be simulated [3]. The model was published as an interactive web application which freely accessible and lets the user explore fitted parameters based on observational data and custom parameters [4]. \n",
    "\n",
    "##### The Colizza Model\n",
    "Another group of researchers arround Laura Di Domenico from the INSERM [5] also created a model to describe the Sars-CoV-2 Pandemic. The base for the model is also a modified SEIR framework. It is extended to bring in the contacts between people and the different behaviours of infected perople into calculation.  \n",
    "At the moment, europe and the world are currently under strict social distancing measures. It is not clear, how the different countries can reduce the strict counter measures against the virus, without running into a second wave.  \n",
    "Therefor the paper addresses the question, what influence have the applied counter measures on the development of the pandemi and what are possible exit strategies to get out of the lockdown in a save way.  \n",
    "The paper is published as a pre-print and publicly available [6]. It contains information about the model and the used parameter but does not publish the sources."
   ]
  },
  {
   "cell_type": "markdown",
   "metadata": {},
   "source": [
    "### 2.1. The Neher model, modeling the health system strain and ICU Overflow\n",
    "\n"
   ]
  },
  {
   "cell_type": "markdown",
   "metadata": {},
   "source": [
    "### 2.2. Parameters and compartments of the model"
   ]
  },
  {
   "cell_type": "markdown",
   "metadata": {},
   "source": [
    "### 2.3. Implementation of the model"
   ]
  },
  {
   "cell_type": "markdown",
   "metadata": {},
   "source": [
    "### 3. The Colizza Model, simulating contact behaviour\n",
    "\n",
    "The model expandet SEIR model and includes multiple states infection states ($I$).\n",
    "The state is split into the prodromic phase ($I_p$), followed by four states, repersenting the severity of  Asymptomatic Infectious state ($I_{a}$), Paucysymptomatic Infectious($I_{ps}$), Symptomatic Infectious ($I_{ms}$) and the state for Symptomatic Infectious with severe symptoms ($I_{ss}$).  \n",
    "The first three states show a mild course after infection. The different states are used to model the behaviour of affected people in more detail. With the parameters it is possible to represent the selfisolation because of the illness. It is assumed that, during a sever illness, people reduce their contacts by 75% [7].  \n",
    "All people in state $I_{ss}$ have a stay in the hospital, either in the normal tracks or in the ICU.  \n",
    "These last two states help to analyse, if a counter measure is enough to prevent the health care system from collapsing.  \n",
    "The compartmental model was initialy build based on French hospital data APHP (Assistance publique - Hôpitaux de Paris[8]).\n",
    "Afterwards it was rescaled to fit whole Île-de-France region.  \n",
    "The paper separates the population into three groups, children (c), adults (a) and seniors(s). Each group interacts with the others, but has a different contact level.\n",
    "\n",
    "\n",
    "The general model is shown in Figure 1:\n",
    "\n",
    "Graph, Fig 1\n",
    "\n",
    "It can be described as a system of first order ordinary differential equations:\n",
    "\n",
    "$$\n",
    "\\begin{align*}\n",
    "    \\frac{dS}{dt} = -b * S *(I_{p} + I_{a} + I_{ps} + I_{ms} + I_{ss})\\\\\n",
    "    \\frac{dE}{dt}=b * S * (I_{p} + I_{a} + I_{ps} + I_{ms} + I_{ss}) -e * E\\\\\n",
    "    \\frac{dI_{p}}{dt}=e*E - u_{p} * I_{p}\\\\\n",
    "    \\frac{dI_{a}}{dt}=p_{a}*u_{p}*I_{p} - u * I_{a}\\\\\n",
    "    \\frac{dI_{ps}}{dt}=(1-p_{a}) * p_{ps} * u_{p} * I_{p} - u * I_{ps}\\\\\n",
    "    \\frac{dI_{ms}}{dt}=(1-p_{a})* p_{ms} * u_{p} * I_{p} - u * I_{ms}\\\\\n",
    "    \\frac{dI_{ss}}{dt}=(1-p_{a})* p_{ss} * u_{p} * I_{p} - u * I_{ss}\\\\\n",
    "    \\frac{dH}{dt}=(1 - p_{ICU}) * u * I_{ss} - (\\lambda_{H,R} + \\lambda_{H,D}) * H\\\\\n",
    "    \\frac{dI_{ICU}}{dt}=p_{ICU} * u * I_{ss} - (\\lambda_{ICU,R} + \\lambda_{ICU,D}) * ICU\\\\\n",
    "    \\frac{dR}{dt}=u * (I_{a} + I_{ps} + I_{ms}) + l_{H,R} * H + l_{ICU,R} * ICU \\\\\n",
    "    \\frac{dD}{dt}l_{H,D} * H + l_{ICU,D} * ICU\n",
    "\\end{align*}\n",
    "$$\n",
    "\n",
    "To get a better understanding of the ODE system the different  population groups were not included in this table. In the implementation all three classes are used."
   ]
  },
  {
   "cell_type": "markdown",
   "metadata": {},
   "source": [
    "#### 3.1 Creating the contact matrix\n",
    "\n",
    "The main contact matrix influencing the model is based on multiple contact matrices. Each matrix represents a given situation of the daily life and has its own amount of contacts between the different groups.  \n",
    "The researchers devided the daily life in six different parts, each with a different ratio. As a result, we have six matrices: $K_{household}$, $K_{school}$, $K_{workplace}$, $K_{transport}$, $K_{leisure}$ and $K_{other}$.\n",
    "\n",
    "\n",
    "To get our input matrix $K$ for the model, we can use the weighted sum of all matrices:\n",
    "$$K=\\sum{K_{place}*ratio_{place}}$$\n",
    "\n",
    "To show the importance of this contact matrices, we created one baseline matrix $K_{baseline}$ and one matrix to decribe the influence of the counter measures $K_{measure}$.\n",
    "\n",
    "The contact matrix is organized that $K_{00}$ represents the contacts from children to children, $K_{01}$ from adults to children and so on.\n",
    "$$K=\n",
    "\\begin{pmatrix}\n",
    "    c\\rightarrow c && a\\rightarrow c && s\\rightarrow c\\\\\n",
    "    c\\rightarrow a && a\\rightarrow a && s\\rightarrow a\\\\\n",
    "    c\\rightarrow s && a\\rightarrow s && s\\rightarrow s\n",
    "\\end{pmatrix}\n",
    "$$"
   ]
  },
  {
   "cell_type": "code",
   "execution_count": 10,
   "metadata": {},
   "outputs": [
    {
     "data": {
      "image/png": "[encoded data removed]",
      "text/plain": [
       "<Figure size 864x864 with 4 Axes>"
      ]
     },
     "metadata": {
      "needs_background": "light"
     },
     "output_type": "display_data"
    }
   ],
   "source": [
    "# baseline\n",
    "ratioBase_household = 1/6\n",
    "ratioBase_school = 1/6\n",
    "ratioBase_workplace = 1/6\n",
    "ratioBase_transport = 1/6\n",
    "ratioBase_leisure = 1/6\n",
    "ratioBase_other = 1/6\n",
    "\n",
    "kBase_household = [\n",
    "    [8, 5, 4],  \n",
    "    [1.2, 7, 2], \n",
    "    [0.8, 6, 2]]\n",
    "kBase_school = [\n",
    "    [8, 5, 4], \n",
    "    [1.2, 7, 2], \n",
    "    [0.8, 6, 2]] \n",
    "kBase_workplace = [\n",
    "    [8, 5, 4], \n",
    "    [1.2, 7, 2], \n",
    "    [0.8, 6, 2]] \n",
    "kBase_transport = [\n",
    "    [8, 5, 4], \n",
    "    [1.2, 7, 2],\n",
    "    [0.8, 6, 2]]\n",
    "kBase_leisure = [\n",
    "    [8, 5, 4],\n",
    "    [1.2, 7, 2], \n",
    "    [0.8, 6, 2]] \n",
    "kBase_other = [\n",
    "    [8, 5, 4], \n",
    "    [1.2, 7, 2], \n",
    "    [0.8, 6, 2]] \n",
    "\n",
    "kBase = [\n",
    "    [1, 1, 1], \n",
    "    [1, 1, 1], \n",
    "    [1, 1, 1]] \n",
    "\n",
    "# Measure\n",
    "ratioMeasure_household = 1/6\n",
    "ratioMeasure_school = 1/6\n",
    "ratioMeasure_workplace = 1/6\n",
    "ratioMeasure_transport = 1/6\n",
    "ratioMeasure_leisure = 1/6\n",
    "ratioMeasure_other = 1/6\n",
    "\n",
    "kMeasure_household = [\n",
    "    [8, 5, 4],  \n",
    "    [1.2, 7, 2], \n",
    "    [0.8, 6, 2]]\n",
    "kMeasure_school = [\n",
    "    [8, 5, 4], \n",
    "    [1.2, 7, 2], \n",
    "    [0.8, 6, 2]] \n",
    "kMeasure_workplace = [\n",
    "    [8, 5, 4], \n",
    "    [1.2, 7, 2], \n",
    "    [0.8, 6, 2]] \n",
    "kMeasure_transport = [\n",
    "    [8, 5, 4], \n",
    "    [1.2, 7, 2],\n",
    "    [0.8, 6, 2]]\n",
    "kMeasure_leisure = [\n",
    "    [8, 5, 4],\n",
    "    [1.2, 7, 2], \n",
    "    [0.8, 6, 2]] \n",
    "kMeasure_other = [\n",
    "    [8, 5, 4], \n",
    "    [1.2, 7, 2], \n",
    "    [0.8, 6, 2]] \n",
    "\n",
    "kMeasure = [\n",
    "    [1, 1, 1], \n",
    "    [1, 1, 1], \n",
    "    [1, 1, 1]] \n",
    "\n",
    "for i in range(3):\n",
    "    for j in range(3):\n",
    "        kBase[i][j] = kBase_household[i][j] * ratioBase_household + kBase_school[i][j] * ratioBase_school \\\n",
    "                      + kBase_workplace[i][j] * ratioBase_workplace + kBase_transport[i][j] * ratioBase_transport \\\n",
    "                      + kBase_leisure[i][j] * ratioBase_leisure + kBase_other[i][j] * ratioBase_other\n",
    "        \n",
    "        kMeasure[i][j] = kMeasure_household[i][j] * ratioMeasure_household \\\n",
    "                         + kMeasure_school[i][j] * ratioMeasure_household \\\n",
    "                         + kMeasure_workplace[i][j] * ratioMeasure_workplace \\\n",
    "                         + kMeasure_transport[i][j] * ratioMeasure_transport \\\n",
    "                         + kMeasure_leisure[i][j] * ratioMeasure_leisure \\\n",
    "                         + kMeasure_other[i][j] * ratioMeasure_other\n",
    "        \n",
    "\n",
    "# Variation of [9]\n",
    "# Basic Configuration\n",
    "fig, axes = plt.subplots(ncols=2, figsize=(12, 12))\n",
    "ax1, ax2 = axes\n",
    "\n",
    "# Heat maps.\n",
    "im1 = ax1.matshow(kBase, cmap='Greys')\n",
    "im2 = ax2.matshow(kMeasure, cmap='Greys')\n",
    "\n",
    "# Formatting for heat map 1.\n",
    "ax1.set_title(\"Base\")\n",
    "ax1.set_xticks(range(len(kBase)))\n",
    "ax1.set_yticks(range(len(kBase)))\n",
    "ax1.set_xticklabels(['c', 'a', 's'])\n",
    "ax1.set_yticklabels(['c', 'a', 's'])\n",
    "ax1.set_ylim(len(kBase)-0.5, -0.5)\n",
    "plt.setp(ax1.get_xticklabels(), rotation=45, ha='left', rotation_mode='anchor')\n",
    "plt.colorbar(im1, fraction=0.045, pad=0.05, ax=ax1)\n",
    "\n",
    "# Formatting for heat map 2.\n",
    "ax2.set_title(\"Measures apllied\")\n",
    "ax2.set_xticks(range(len(kMeasure)))\n",
    "ax2.set_yticks(range(len(kMeasure)))\n",
    "ax2.set_xticklabels(['c', 'a', 's'])\n",
    "ax2.set_yticklabels(['c', 'a', 's'])\n",
    "ax2.set_ylim(len(kMeasure)-0.5, -0.5)\n",
    "plt.setp(ax2.get_xticklabels(), rotation=45, ha='left', rotation_mode='anchor')\n",
    "plt.colorbar(im2, fraction=0.045, pad=0.1, ax=ax2)\n",
    "\n",
    "fig.tight_layout()\n",
    "plt.show()"
   ]
  },
  {
   "cell_type": "markdown",
   "metadata": {},
   "source": [
    "####  3.2 Parameters for the model"
   ]
  },
  {
   "cell_type": "markdown",
   "metadata": {},
   "source": [
    "#### 3.3 Implementing the Colizza model\n",
    "\n",
    "One important part of the model is the separation of the population in three parts (c, a, s). We have different chances in the different groups for the infection rate and the progression.  \n",
    "To represent this we created one model per group. The only contact between these three models is the infection phase. Children can not only infect other children, but also adults and seniors.\n",
    "\n",
    "Using a solver for our function *colizzaModel(...)*, we calculate the development of all three population groups."
   ]
  },
  {
   "cell_type": "code",
   "execution_count": 12,
   "metadata": {},
   "outputs": [
    {
     "ename": "SyntaxError",
     "evalue": "invalid syntax (<ipython-input-12-230856e66aab>, line 54)",
     "output_type": "error",
     "traceback": [
      "\u001b[1;36m  File \u001b[1;32m\"<ipython-input-12-230856e66aab>\"\u001b[1;36m, line \u001b[1;32m54\u001b[0m\n\u001b[1;33m    dI_psdT[i] = (1 - p_a[i]) * p_ps[i] * u _p[i] * I_p[i] - u[i] * I_ps[i]\u001b[0m\n\u001b[1;37m                                             ^\u001b[0m\n\u001b[1;31mSyntaxError\u001b[0m\u001b[1;31m:\u001b[0m invalid syntax\n"
     ]
    }
   ],
   "source": [
    "def casModel1(status, t, b, k, k_i, e, p_a, p_ps, p_ms, p_ss, u_p, u, p_icu, l_hr, l_hd, l_icur, l_icud):\n",
    "    # re-create vectors per population group\n",
    "    S = np.empty(3, dtype=float)\n",
    "    E = np.empty(3, dtype=float)\n",
    "    I_p = np.empty(3, dtype=float)\n",
    "    I_a = np.empty(3, dtype=float)\n",
    "    I_ps = np.empty(3, dtype=float)\n",
    "    I_ms = np.empty(3, dtype=float)\n",
    "    I_ss = np.empty(3, dtype=float)\n",
    "    H = np.empty(3, dtype=float)\n",
    "    ICU = np.empty(3, dtype=float)\n",
    "    R = np.empty(3, dtype=float)\n",
    "    D = np.empty(3, dtype=float)\n",
    "    \n",
    "    for i in range(3):\n",
    "        S[i] = status[0 + i]\n",
    "        E[i] = status[3 + i]\n",
    "        I_p[i] = status[6 + i]\n",
    "        I_a[i] = status[9 + i]\n",
    "        I_ps[i] = status[12 + i]\n",
    "        I_ms[i] = status[15 + i]\n",
    "        I_ss[i] = status[18 + i]\n",
    "        H[i] = status[21 + i]\n",
    "        ICU[i] = status[24 + i]\n",
    "        R[i] = status[27 + i]\n",
    "        D[i] =status[ 30 + i]\n",
    "    \n",
    "    #prepare return arrays\n",
    "    dSdT = np.empty(3, dtype=float)\n",
    "    dEdT = np.empty(3, dtype=float)\n",
    "    dI_pdT = np.empty(3, dtype=float)\n",
    "    dI_adT = np.empty(3, dtype=float)\n",
    "    dI_psdT = np.empty(3, dtype=float)\n",
    "    dI_msdT = np.empty(3, dtype=float)\n",
    "    dI_ssdT = np.empty(3, dtype=float)\n",
    "    dHdT = np.empty(3, dtype=float)\n",
    "    dICUdT = np.empty(3, dtype=float)\n",
    "    dRdT = np.empty(3, dtype=float)\n",
    "    dDdT = np.empty(3, dtype=float)\n",
    "    \n",
    "    # Define ODE system\n",
    "    for i in range(3):     \n",
    "        dSdT[i] = -b[i] * S[i] * (k[0][i] * (I_p[0] + k_i[0] * I_a[0] + k_i[1] * I_ps[0] + k_i[2] * I_ms[0] + k_i[3] * I_ss[0] ) \\\n",
    "                                  + k[1][i] * (I_p[1] + k_i[0] * I_a[1] + k_i[1] * I_ps[1] + k_i[2] * I_ms[1] + k_i[3] * I_ss[1] ) \\\n",
    "                                  + k[2][i] * (I_p[2] + k_i[0] * I_a[2] + k_i[1] * I_ps[2] + k_i[2] * I_ms[2] + k_i[3] * I_ss[2] ))\n",
    "        dEdT[i] = - e[i] * E[i] \\\n",
    "                  + b[i] * S[i] * (k[0][i] * (I_p[0] + k_i[0] * I_a[0] + k_i[1] * I_ps[0] + k_i[2] * I_ms[0] + k_i[3] * I_ss[0] ) \\\n",
    "                                 + k[1][i] * (I_p[1] + k_i[0] * I_a[1] + k_i[1] * I_ps[1] + k_i[2] * I_ms[1] + k_i[3] * I_ss[1] ) \\\n",
    "                                 + k[2][i] * (I_p[2] + k_i[0] * I_a[2] + k_i[1] * I_ps[2] + k_i[2] * I_ms[2] + k_i[3] * I_ss[2] )) \\\n",
    "                \n",
    "        \n",
    "        dI_pdT[i] = e[i] * E[i] - u_p[i]* (p_a[i]  + (1 - p_a[i]) * (p_ps[i] + p_ms[i] + p_ss[i])) * I_p[i] \n",
    "        dI_adT[i] = p_a[i] * u_p[i] * I_p[i] - u[i] * I_a[i]\n",
    "        dI_psdT[i] = (1 - p_a[i]) * p_ps[i] * u _p[i] * I_p[i] - u[i] * I_ps[i]\n",
    "        dI_msdT[i] = (1 - p_a[i]) * p_ms[i] * u_p[i] * I_p[i] - u[i] * I_ms[i]\n",
    "        dI_ssdT[i] = (1 - p_a[i]) * p_ss[i] * u_p[i] * I_p[i] - u[i] * I_ss[i]    \n",
    "        dHdT[i] = (1 - p_icu[i]) * u[i] * I_ss[i] - (l_hr[i] + l_hd[i]) * H[i]\n",
    "        dICUdT[i] = p_icu[i] * u[i] * I_ss[i] - (l_icur[i] + l_icud[i]) * ICU[i]   \n",
    "        dRdT[i] = u[i] * (I_a[i] + I_ps[i] + I_ms[i]) + l_hr[i] * H[i] + l_icur[i] * ICU[i] \n",
    "        dDdT[i] = l_hd[i] * H[i] + l_icud[i] * ICU[i]\n",
    "    \n",
    "    # return flattened arrays\n",
    "    return [dSdT[0], dSdT[1], dSdT[2], dEdT[0], dEdT[1], dEdT[2], dI_pdT[0], dI_pdT[1], dI_pdT[2], dI_adT[0], dI_adT[1], dI_adT[2], dI_psdT[0], dI_psdT[1], dI_psdT[2], dI_msdT[0], dI_msdT[1], dI_msdT[2], dI_ssdT[0], dI_ssdT[1], dI_ssdT[2], dHdT[0], dHdT[1], dHdT[2], dICUdT[0], dICUdT[1], dICUdT[2], dRdT[0], dRdT[1], dRdT[2], dDdT[0], dDdT[1], dDdT[2] ]"
   ]
  },
  {
   "cell_type": "markdown",
   "metadata": {},
   "source": [
    "### 4.1 Results from the Neher model"
   ]
  },
  {
   "cell_type": "markdown",
   "metadata": {},
   "source": [
    "### 4.2 Results from the Colizza model"
   ]
  },
  {
   "cell_type": "markdown",
   "metadata": {},
   "source": [
    "### 4.3 Two similar approaches with different focus - comparison of the Coliza and Neher model"
   ]
  },
  {
   "cell_type": "markdown",
   "metadata": {},
   "source": [
    "### 5. Appendix \n",
    "\n",
    "[5] INSERM, Sorbonne Université, Pierre Louis Institute of Epidemiology and Public Health, Paris, France  \n",
    "[6] Di Domenico et al,Expected impact of lockdown in Ile-de-France and possible exit strategies, Report #9, medRxiv.org  \n",
    "[7] Van Kerckhove, K., Hens, N., Edmunds, W. J. & Eames, K. T. D. The Impact of Illness on Social Networks: Implications for Transmission and Control of Influenza. Am. J. Epidemiol. 178, 1655– 1662 (2013)  \n",
    "[8] APHP. https://www.aphp.fr/  \n",
    "[9] https://stackoverflow.com/questions/55663030/plotting-two-heat-maps-side-by-side-in-matplotlib\n"
   ]
  },
  {
   "cell_type": "code",
   "execution_count": null,
   "metadata": {},
   "outputs": [],
   "source": []
  }
 ],
 "metadata": {
  "kernelspec": {
   "display_name": "Python 3",
   "language": "python",
   "name": "python3"
  },
  "language_info": {
   "codemirror_mode": {
    "name": "ipython",
    "version": 3
   },
   "file_extension": ".py",
   "mimetype": "text/x-python",
   "name": "python",
   "nbconvert_exporter": "python",
   "pygments_lexer": "ipython3",
   "version": "3.7.6"
  }
 },
 "nbformat": 4,
 "nbformat_minor": 4
}
